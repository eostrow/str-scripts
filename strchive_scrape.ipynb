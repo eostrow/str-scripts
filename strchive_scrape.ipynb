{
 "cells": [
  {
   "cell_type": "markdown",
   "metadata": {
    "tags": []
   },
   "source": [
    "#### Generate STR input files (variant_catalog.json and .bed file) for EPI2ME workflow\n",
    "This script is necessary because: \n",
    "(1) we want to keep our gene (STR) list up-to-date as new pathogenic variants are identified, \n",
    "(2) STRchive and straglr have some differences in the formats of their variant_catalogs and .bed files that contain the list of loci to report. \n",
    "\n",
    "This script will pull the latest versions from STRchive and make the variant_catalog and list of loci for straglr/EPI2ME workflow. \n",
    "It will also make a .bed file formatted for NanoRepeat.\n",
    "\n",
    "You can filter your locus list to include only STRs with a certain minimum age of onset. For example, set age_onset_max to 1 if you want to only look at loci with pathogenic effects within the first year of life.\n",
    "\n",
    "Elizabeth A. Ostrowski\n",
    "Last updated: 16 August 2024\n"
   ]
  },
  {
   "cell_type": "markdown",
   "metadata": {},
   "source": [
    "Load libraries"
   ]
  },
  {
   "cell_type": "code",
   "execution_count": 1,
   "metadata": {
    "tags": []
   },
   "outputs": [],
   "source": [
    "import re\n",
    "import json\n",
    "import requests\n",
    "import pandas as pd"
   ]
  },
  {
   "cell_type": "markdown",
   "metadata": {},
   "source": [
    "Specify the output filenames (bed, json)\n"
   ]
  },
  {
   "cell_type": "code",
   "execution_count": 3,
   "metadata": {},
   "outputs": [],
   "source": [
    "# Parameters: output filenames (bed, json)\n",
    "out_straglr_bed_fname = \"strs_for_straglr.bed\"\n",
    "out_straglr_json_fname = \"updated_variant_catalog_hg38.json\"\n",
    "out_nano_bed_fname = \"strs_for_nano.bed\"\n",
    "age_onset_max = 100 # Use this parameter to filter out late-onset diseases \n",
    "                    # (e.g., set to 1 if you want diseases with onset within the first year of life.)"
   ]
  },
  {
   "cell_type": "code",
   "execution_count": 6,
   "metadata": {},
   "outputs": [],
   "source": [
    "# Create and open output files\n",
    "out_straglr_bed = open(out_straglr_bed_fname, \"w\")\n",
    "out_nano_bed = open(out_nano_bed_fname, \"w\")\n",
    "out_straglr_json = open(out_straglr_json_fname, \"w\")\n",
    "\n",
    "# Get json file from STRchive\n",
    "json_url = \"https://raw.githubusercontent.com/dashnowlab/STRchive/main/data/STRchive-database.json\"\n",
    "resp = requests.get(json_url)\n",
    "my_json = json.loads(resp.text)\n",
    "\n",
    "# Reformat the STRchive json to match the straglr format\n",
    "variant_catalog = []\n",
    "gene_dict = {}\n",
    "\n",
    "for record in my_json: # For genes with >1 STR, add \"_1\", \"_2\", etc for each one\n",
    "        gene = record.get(\"gene\")\n",
    "        \n",
    "        if gene not in gene_dict:\n",
    "            gene_dict[gene]=1\n",
    "        else:\n",
    "            gene_dict[gene] = gene_dict[gene]+1\n",
    "            gene = gene + \"_\" + str(gene_dict[gene])    \n",
    "        \n",
    "        #gene = record.get('id')\n",
    "        normal_max = record.get('normal_max')\n",
    "        patho_min = record.get('pathogenic_min')\n",
    "        age_onset_min = record.get('age_onset_min')\n",
    "        reference_region = f\"{record.get('chrom')}:{record.get('start_hg38')}-{record.get('stop_hg38')}\"\n",
    "        \n",
    "        if patho_min and normal_max:\n",
    "            new_record = {\n",
    "                \"LocusId\": gene,\n",
    "                \"InheritanceMode\": record.get(\"Inheritance\"),\n",
    "                \"DisplayRU\": record.get(\"pathogenic_motif_gene_orientation\"),\n",
    "                \"SourceDisplay\": record.get(\"source\"),\n",
    "                #\"SourceId\": record.get(\"GeneReviews\"),\n",
    "                \"LocusStructure\": record.get(\"locus_structure\"),\n",
    "                \"ReferenceRegion\":reference_region,\n",
    "                \"VariantType\": \"Repeat\",\n",
    "                \"Disease\": re.sub(\"\\/\", \" \", record.get(\"disease\")), # get rid of forward slashes; causes errors in EPI2ME \n",
    "                \"NormalMax\": int(record.get(\"normal_max\")), # convert floats to ints\n",
    "                \"PathologicMin\": int(record.get(\"pathogenic_min\"))        #convert floats to ints\n",
    "            }\n",
    "\n",
    "        if patho_min and normal_max and int(age_onset_min)<=age_onset_max:  # make sure critical info is present & filter\n",
    "            variant_catalog.append(new_record)\n",
    "            out_straglr_bed.write(f\"{record.get('chrom')}\\t{record.get('start_hg38')}\\t{record.get('stop_hg38')}\\t{record.get('reference_motif_reference_orientation')}\\t{gene}\\t{gene}\\n\")\n",
    "            out_nano_bed.write(f\"{record.get('chrom')}\\t{record.get('start_hg38')}\\t{record.get('stop_hg38')}\\t{record.get('reference_motif_reference_orientation')}\\n\")\n",
    "            #with open('updated_variant_catalog_hg38.json', \"a\") as file:\n",
    "            #    json.dump(new_record, file, indent=4)\n",
    "            # Save the new variant_catalog_hg38.json\n",
    "            \n",
    "with open(out_straglr_json_fname, 'w') as file:\n",
    "    json.dump(variant_catalog, file, indent=4)"
   ]
  }
 ],
 "metadata": {
  "kernelspec": {
   "display_name": "Python 3.9.5 (gimkl-2020a)",
   "language": "python",
   "name": "python395-gimkl-2020a"
  },
  "language_info": {
   "codemirror_mode": {
    "name": "ipython",
    "version": 3
   },
   "file_extension": ".py",
   "mimetype": "text/x-python",
   "name": "python",
   "nbconvert_exporter": "python",
   "pygments_lexer": "ipython3",
   "version": "3.9.5"
  }
 },
 "nbformat": 4,
 "nbformat_minor": 4
}
